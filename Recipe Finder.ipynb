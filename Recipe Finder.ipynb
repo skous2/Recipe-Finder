{
 "cells": [
  {
   "cell_type": "code",
   "execution_count": 21,
   "metadata": {},
   "outputs": [],
   "source": [
    "import pandas as pd\n",
    "import numpy as np\n",
    "import random\n",
    "import requests\n",
    "import xml.etree.ElementTree as ET\n",
    "from bs4 import BeautifulSoup\n",
    "from random import randint\n",
    "from time import sleep"
   ]
  },
  {
   "cell_type": "code",
   "execution_count": 22,
   "metadata": {},
   "outputs": [
    {
     "data": {
      "text/plain": [
       "True"
      ]
     },
     "execution_count": 22,
     "metadata": {},
     "output_type": "execute_result"
    }
   ],
   "source": [
    "'flour' in 'all-purpose flour'"
   ]
  },
  {
   "cell_type": "code",
   "execution_count": 23,
   "metadata": {},
   "outputs": [],
   "source": [
    "from urllib.request import Request, urlopen\n",
    "from bs4 import BeautifulSoup as soup"
   ]
  },
  {
   "cell_type": "code",
   "execution_count": 24,
   "metadata": {},
   "outputs": [],
   "source": [
    "pd.set_option('display.max_colwidth', None)"
   ]
  },
  {
   "cell_type": "code",
   "execution_count": 25,
   "metadata": {},
   "outputs": [],
   "source": [
    "def find_ingredient(searchvals, ing_list):\n",
    "    return all([any(val in string for string in ing_list) for val in searchvals])"
   ]
  },
  {
   "cell_type": "code",
   "execution_count": 26,
   "metadata": {},
   "outputs": [],
   "source": [
    "def clean_ing(ings):\n",
    "    clean = [ing.strip(\" ,*\") for ing in ings]\n",
    "    return clean"
   ]
  },
  {
   "cell_type": "code",
   "execution_count": 27,
   "metadata": {},
   "outputs": [],
   "source": [
    "SBA_df = pd.read_csv(r'C:\\Users\\tanne\\OneDrive\\Documents\\SBA_recipes.csv')"
   ]
  },
  {
   "cell_type": "code",
   "execution_count": 28,
   "metadata": {},
   "outputs": [],
   "source": [
    "AK_df = pd.read_csv(r'C:\\Users\\tanne\\OneDrive\\Documents\\AK_recipes.csv')"
   ]
  },
  {
   "cell_type": "code",
   "execution_count": 29,
   "metadata": {},
   "outputs": [],
   "source": [
    "CDLC_df = pd.read_csv(r'C:\\Users\\tanne\\OneDrive\\Documents\\CDLC_recipes.csv')"
   ]
  },
  {
   "cell_type": "code",
   "execution_count": 30,
   "metadata": {},
   "outputs": [],
   "source": [
    "POY_df = pd.read_csv(r'C:\\Users\\tanne\\OneDrive\\Documents\\POY_recipes.csv')"
   ]
  },
  {
   "cell_type": "code",
   "execution_count": 31,
   "metadata": {},
   "outputs": [],
   "source": [
    "TP_df = pd.read_csv(r'C:\\Users\\tanne\\OneDrive\\Documents\\TP_recipes.csv')"
   ]
  },
  {
   "cell_type": "code",
   "execution_count": 32,
   "metadata": {},
   "outputs": [],
   "source": [
    "CMA_df = pd.read_csv(r'C:\\Users\\tanne\\OneDrive\\Documents\\CMA_recipes.csv')"
   ]
  },
  {
   "cell_type": "code",
   "execution_count": 33,
   "metadata": {},
   "outputs": [],
   "source": [
    "OSB_df = pd.read_csv(r'C:\\Users\\tanne\\Documents\\GitHub\\Recipe-Finder\\OSB_recipes.csv')"
   ]
  },
  {
   "cell_type": "code",
   "execution_count": 34,
   "metadata": {},
   "outputs": [],
   "source": [
    "master = pd.concat([SBA_df, AK_df, CDLC_df, POY_df, TP_df, CMA_df, OSB_df])"
   ]
  },
  {
   "cell_type": "code",
   "execution_count": 35,
   "metadata": {},
   "outputs": [],
   "source": [
    "master = master.reset_index(drop=True)"
   ]
  },
  {
   "cell_type": "code",
   "execution_count": 36,
   "metadata": {},
   "outputs": [
    {
     "data": {
      "text/html": [
       "<div>\n",
       "<style scoped>\n",
       "    .dataframe tbody tr th:only-of-type {\n",
       "        vertical-align: middle;\n",
       "    }\n",
       "\n",
       "    .dataframe tbody tr th {\n",
       "        vertical-align: top;\n",
       "    }\n",
       "\n",
       "    .dataframe thead th {\n",
       "        text-align: right;\n",
       "    }\n",
       "</style>\n",
       "<table border=\"1\" class=\"dataframe\">\n",
       "  <thead>\n",
       "    <tr style=\"text-align: right;\">\n",
       "      <th></th>\n",
       "      <th>Blog</th>\n",
       "      <th>Recipe</th>\n",
       "      <th>Link</th>\n",
       "      <th>Time</th>\n",
       "      <th>Ingredients</th>\n",
       "    </tr>\n",
       "  </thead>\n",
       "  <tbody>\n",
       "    <tr>\n",
       "      <th>0</th>\n",
       "      <td>Sally's baking addiction</td>\n",
       "      <td>Asiago Cheese &amp; Sun-Dried Tomato Quick Bread</td>\n",
       "      <td>https://sallysbakingaddiction.com/asiago-cheese-sun-dried-tomato-quick-bread/</td>\n",
       "      <td>1 hour, 15 minutes</td>\n",
       "      <td>['buttermilk', 'eggs', 'all-purpose flour', 'baking powder', 'baking soda', 'garlic powder', 'granulated sugar', 'salt', 'fresh ground black pepper', 'fresh basil', 'parsley', 'unsalted butter', 'shredded asiago cheese', 'oil-packed sun-dried tomatoes']</td>\n",
       "    </tr>\n",
       "    <tr>\n",
       "      <th>1</th>\n",
       "      <td>Sally's baking addiction</td>\n",
       "      <td>Glazed Coconut Lime Cookies</td>\n",
       "      <td>https://sallysbakingaddiction.com/coconut-lime-cookies/</td>\n",
       "      <td>2 hours, 30 minutes</td>\n",
       "      <td>['sweetened shredded coconut', 'all-purpose flour', 'cornstarch', 'baking soda', 'salt', 'unsalted butter', 'granulated sugar', 'egg', 'lime juice', 'lime zest', 'coconut extract', 'confectioners’ sugar', 'lime juice']</td>\n",
       "    </tr>\n",
       "    <tr>\n",
       "      <th>2</th>\n",
       "      <td>Sally's baking addiction</td>\n",
       "      <td>Blackberry Cream Cheese Crumb Cake</td>\n",
       "      <td>https://sallysbakingaddiction.com/blackberry-cream-cheese-crumb-cake/</td>\n",
       "      <td>2 hours, 5 minutes</td>\n",
       "      <td>['unsalted butter', 'granulated sugar', 'eggs', 'pure vanilla extract', 'sour cream', 'all-purpose flour', 'baking powder', 'baking soda', 'salt', 'blackberries', 'cream cheese', 'brown sugar', 'all-purpose flour', 'ground cinnamon', 'unsalted butter', 'confectioners’ sugar', 'milk', 'heavy cream', 'lemon juice', 'pure vanilla extract']</td>\n",
       "    </tr>\n",
       "    <tr>\n",
       "      <th>3</th>\n",
       "      <td>Sally's baking addiction</td>\n",
       "      <td>Strawberry Cheesecake Pie (No Bake Filling)</td>\n",
       "      <td>https://sallysbakingaddiction.com/strawberry-cheesecake-pie/</td>\n",
       "      <td>9 hours, 15 minutes</td>\n",
       "      <td>['crushed pretzel crumbs', 'graham cracker crumbs', 'granulated sugar', 'unsalted butter', 'strawberries', 'heavy cream', 'heavy whipping cream', 'full-fat cream cheese', 'confectioners’ sugar', 'pure vanilla extract', 'sliced strawberries', 'granulated sugar', 'heavy cream', 'heavy whipping cream', 'pure vanilla extract']</td>\n",
       "    </tr>\n",
       "    <tr>\n",
       "      <th>4</th>\n",
       "      <td>Sally's baking addiction</td>\n",
       "      <td>Double Chocolate Muffins</td>\n",
       "      <td>https://sallysbakingaddiction.com/double-chocolate-muffins/</td>\n",
       "      <td>40 minutes (includes slight cooling)</td>\n",
       "      <td>['all-purpose flour', 'granulated sugar', 'cocoa powder', 'baking soda', 'salt', 'semi-sweet chocolate chips', 'eggs', 'sour cream', 'vegetable oil', 'whole milk', 'pure vanilla extract']</td>\n",
       "    </tr>\n",
       "    <tr>\n",
       "      <th>...</th>\n",
       "      <td>...</td>\n",
       "      <td>...</td>\n",
       "      <td>...</td>\n",
       "      <td>...</td>\n",
       "      <td>...</td>\n",
       "    </tr>\n",
       "    <tr>\n",
       "      <th>8243</th>\n",
       "      <td>Oh sweet basil</td>\n",
       "      <td>Apple Chutney Pork Chops</td>\n",
       "      <td>https://ohsweetbasil.com/apple-chutney-pork-chops/</td>\n",
       "      <td>40 minutes</td>\n",
       "      <td>[' apples', 'honey', 'vinegar', 'brown sugar', 'salt', ' ginger', 'mustard', 'pork chops']</td>\n",
       "    </tr>\n",
       "    <tr>\n",
       "      <th>8244</th>\n",
       "      <td>Oh sweet basil</td>\n",
       "      <td>Creamy Chicken Artichoke Pasta</td>\n",
       "      <td>https://ohsweetbasil.com/artichoke-pasta-recipe/</td>\n",
       "      <td>40 minutes</td>\n",
       "      <td>['butter', 'olive oil', 'medium onion', 'garlic', 'chicken breasts', 'flour', 'artichokes', 'chicken broth', 'heavy cream', 'cooking dry white wine', 'sun dried tomatoes', 'dried oregano', 'dried basil', 'salt', 'pepper', 'angel hair pasta']</td>\n",
       "    </tr>\n",
       "    <tr>\n",
       "      <th>8245</th>\n",
       "      <td>Oh sweet basil</td>\n",
       "      <td>Marshmallow Popcorn</td>\n",
       "      <td>https://ohsweetbasil.com/marshmallow-popcorn/</td>\n",
       "      <td>4 minutes</td>\n",
       "      <td>['mini marshmallows or 16 big ones', 'brown sugar', 'butter', 'low fat popcorn']</td>\n",
       "    </tr>\n",
       "    <tr>\n",
       "      <th>8246</th>\n",
       "      <td>Oh sweet basil</td>\n",
       "      <td>Tuscan Tortellini</td>\n",
       "      <td>https://ohsweetbasil.com/tuscan-tortellini/</td>\n",
       "      <td>30 minutes</td>\n",
       "      <td>['pkg fresh tortellini', 'garlic minced', 'tuscan italian salad dressing', 'carrot sliced', 'head of broccoli steamed', 'parmesan cheese shredded']</td>\n",
       "    </tr>\n",
       "    <tr>\n",
       "      <th>8247</th>\n",
       "      <td>Oh sweet basil</td>\n",
       "      <td>Easy Fried Ravioli</td>\n",
       "      <td>https://ohsweetbasil.com/fried-ravioli/</td>\n",
       "      <td>30 minutes</td>\n",
       "      <td>['package fresh ravioli', 'buttermilk', 'seasoned bread crumbs', 'olive oil', 'marinara for dipping']</td>\n",
       "    </tr>\n",
       "  </tbody>\n",
       "</table>\n",
       "<p>8248 rows × 5 columns</p>\n",
       "</div>"
      ],
      "text/plain": [
       "                          Blog                                        Recipe  \\\n",
       "0     Sally's baking addiction  Asiago Cheese & Sun-Dried Tomato Quick Bread   \n",
       "1     Sally's baking addiction                   Glazed Coconut Lime Cookies   \n",
       "2     Sally's baking addiction            Blackberry Cream Cheese Crumb Cake   \n",
       "3     Sally's baking addiction   Strawberry Cheesecake Pie (No Bake Filling)   \n",
       "4     Sally's baking addiction                      Double Chocolate Muffins   \n",
       "...                        ...                                           ...   \n",
       "8243            Oh sweet basil                      Apple Chutney Pork Chops   \n",
       "8244            Oh sweet basil                Creamy Chicken Artichoke Pasta   \n",
       "8245            Oh sweet basil                           Marshmallow Popcorn   \n",
       "8246            Oh sweet basil                             Tuscan Tortellini   \n",
       "8247            Oh sweet basil                            Easy Fried Ravioli   \n",
       "\n",
       "                                                                               Link  \\\n",
       "0     https://sallysbakingaddiction.com/asiago-cheese-sun-dried-tomato-quick-bread/   \n",
       "1                           https://sallysbakingaddiction.com/coconut-lime-cookies/   \n",
       "2             https://sallysbakingaddiction.com/blackberry-cream-cheese-crumb-cake/   \n",
       "3                      https://sallysbakingaddiction.com/strawberry-cheesecake-pie/   \n",
       "4                       https://sallysbakingaddiction.com/double-chocolate-muffins/   \n",
       "...                                                                             ...   \n",
       "8243                             https://ohsweetbasil.com/apple-chutney-pork-chops/   \n",
       "8244                               https://ohsweetbasil.com/artichoke-pasta-recipe/   \n",
       "8245                                  https://ohsweetbasil.com/marshmallow-popcorn/   \n",
       "8246                                    https://ohsweetbasil.com/tuscan-tortellini/   \n",
       "8247                                        https://ohsweetbasil.com/fried-ravioli/   \n",
       "\n",
       "                                      Time  \\\n",
       "0                       1 hour, 15 minutes   \n",
       "1                      2 hours, 30 minutes   \n",
       "2                       2 hours, 5 minutes   \n",
       "3                      9 hours, 15 minutes   \n",
       "4     40 minutes (includes slight cooling)   \n",
       "...                                    ...   \n",
       "8243                            40 minutes   \n",
       "8244                            40 minutes   \n",
       "8245                             4 minutes   \n",
       "8246                            30 minutes   \n",
       "8247                            30 minutes   \n",
       "\n",
       "                                                                                                                                                                                                                                                                                                                                             Ingredients  \n",
       "0                                                                                          ['buttermilk', 'eggs', 'all-purpose flour', 'baking powder', 'baking soda', 'garlic powder', 'granulated sugar', 'salt', 'fresh ground black pepper', 'fresh basil', 'parsley', 'unsalted butter', 'shredded asiago cheese', 'oil-packed sun-dried tomatoes']  \n",
       "1                                                                                                                             ['sweetened shredded coconut', 'all-purpose flour', 'cornstarch', 'baking soda', 'salt', 'unsalted butter', 'granulated sugar', 'egg', 'lime juice', 'lime zest', 'coconut extract', 'confectioners’ sugar', 'lime juice']  \n",
       "2     ['unsalted butter', 'granulated sugar', 'eggs', 'pure vanilla extract', 'sour cream', 'all-purpose flour', 'baking powder', 'baking soda', 'salt', 'blackberries', 'cream cheese', 'brown sugar', 'all-purpose flour', 'ground cinnamon', 'unsalted butter', 'confectioners’ sugar', 'milk', 'heavy cream', 'lemon juice', 'pure vanilla extract']  \n",
       "3                   ['crushed pretzel crumbs', 'graham cracker crumbs', 'granulated sugar', 'unsalted butter', 'strawberries', 'heavy cream', 'heavy whipping cream', 'full-fat cream cheese', 'confectioners’ sugar', 'pure vanilla extract', 'sliced strawberries', 'granulated sugar', 'heavy cream', 'heavy whipping cream', 'pure vanilla extract']  \n",
       "4                                                                                                                                                            ['all-purpose flour', 'granulated sugar', 'cocoa powder', 'baking soda', 'salt', 'semi-sweet chocolate chips', 'eggs', 'sour cream', 'vegetable oil', 'whole milk', 'pure vanilla extract']  \n",
       "...                                                                                                                                                                                                                                                                                                                                                  ...  \n",
       "8243                                                                                                                                                                                                                                                          [' apples', 'honey', 'vinegar', 'brown sugar', 'salt', ' ginger', 'mustard', 'pork chops']  \n",
       "8244                                                                                                   ['butter', 'olive oil', 'medium onion', 'garlic', 'chicken breasts', 'flour', 'artichokes', 'chicken broth', 'heavy cream', 'cooking dry white wine', 'sun dried tomatoes', 'dried oregano', 'dried basil', 'salt', 'pepper', 'angel hair pasta']  \n",
       "8245                                                                                                                                                                                                                                                                    ['mini marshmallows or 16 big ones', 'brown sugar', 'butter', 'low fat popcorn']  \n",
       "8246                                                                                                                                                                                                 ['pkg fresh tortellini', 'garlic minced', 'tuscan italian salad dressing', 'carrot sliced', 'head of broccoli steamed', 'parmesan cheese shredded']  \n",
       "8247                                                                                                                                                                                                                                               ['package fresh ravioli', 'buttermilk', 'seasoned bread crumbs', 'olive oil', 'marinara for dipping']  \n",
       "\n",
       "[8248 rows x 5 columns]"
      ]
     },
     "execution_count": 36,
     "metadata": {},
     "output_type": "execute_result"
    }
   ],
   "source": [
    "master"
   ]
  },
  {
   "cell_type": "code",
   "execution_count": 37,
   "metadata": {},
   "outputs": [],
   "source": [
    "master.Ingredients = master.Ingredients.str.replace(\"'\",\"\").str.strip('][').str.split(', ')"
   ]
  },
  {
   "cell_type": "code",
   "execution_count": 57,
   "metadata": {},
   "outputs": [
    {
     "data": {
      "text/plain": [
       "['buttermilk',\n",
       " 'eggs',\n",
       " 'all-purpose flour',\n",
       " 'baking powder',\n",
       " 'baking soda',\n",
       " 'garlic powder',\n",
       " 'granulated sugar',\n",
       " 'salt',\n",
       " 'fresh ground black pepper',\n",
       " 'fresh basil',\n",
       " 'parsley',\n",
       " 'unsalted butter',\n",
       " 'shredded asiago cheese',\n",
       " 'oil-packed sun-dried tomatoes']"
      ]
     },
     "execution_count": 57,
     "metadata": {},
     "output_type": "execute_result"
    }
   ],
   "source": []
  },
  {
   "cell_type": "code",
   "execution_count": 38,
   "metadata": {},
   "outputs": [],
   "source": [
    "def calc_time(time):\n",
    "    try:\n",
    "        hours = 0\n",
    "        minutes = 0\n",
    "        if time.find(\"hour\") > -1:\n",
    "            hours = int(time[:time.find(\"hour\")-1].strip(\" +:\"))*60\n",
    "        if time.find(\"min\") > -1:\n",
    "            minutes = int(time[time.find(\"min\")-3: time.find(\"min\")-1].strip(\" +:\"))\n",
    "        return hours + minutes\n",
    "    except:\n",
    "        return 0"
   ]
  },
  {
   "cell_type": "code",
   "execution_count": 39,
   "metadata": {},
   "outputs": [],
   "source": [
    "master.Time = master.Time.apply(calc_time)"
   ]
  },
  {
   "cell_type": "code",
   "execution_count": 41,
   "metadata": {},
   "outputs": [],
   "source": [
    "master.to_csv(r'C:\\Users\\tanne\\Documents\\GitHub\\Recipe-Finder\\recipes_master.csv', index = False, header=True)"
   ]
  },
  {
   "cell_type": "code",
   "execution_count": 88,
   "metadata": {},
   "outputs": [
    {
     "data": {
      "text/html": [
       "<div>\n",
       "<style scoped>\n",
       "    .dataframe tbody tr th:only-of-type {\n",
       "        vertical-align: middle;\n",
       "    }\n",
       "\n",
       "    .dataframe tbody tr th {\n",
       "        vertical-align: top;\n",
       "    }\n",
       "\n",
       "    .dataframe thead th {\n",
       "        text-align: right;\n",
       "    }\n",
       "</style>\n",
       "<table border=\"1\" class=\"dataframe\">\n",
       "  <thead>\n",
       "    <tr style=\"text-align: right;\">\n",
       "      <th></th>\n",
       "      <th>index</th>\n",
       "      <th>Blog</th>\n",
       "      <th>Recipe</th>\n",
       "      <th>Link</th>\n",
       "      <th>Time</th>\n",
       "      <th>Ingredients</th>\n",
       "    </tr>\n",
       "  </thead>\n",
       "  <tbody>\n",
       "    <tr>\n",
       "      <th>0</th>\n",
       "      <td>4616</td>\n",
       "      <td>Two peas and their pod</td>\n",
       "      <td>Oreo Balls</td>\n",
       "      <td>https://www.twopeasandtheirpod.com/oreo-balls/</td>\n",
       "      <td>0</td>\n",
       "      <td>[oreo cookies, cream cheese, chocolate melting wafers or candy coating, white chocolate melting wafers or candy coating, for decorating: melted chocolate, oreo crumbs, sprinkles, crushed peppermint, or chopped nuts, if desired]</td>\n",
       "    </tr>\n",
       "    <tr>\n",
       "      <th>1</th>\n",
       "      <td>4333</td>\n",
       "      <td>Two peas and their pod</td>\n",
       "      <td>Ultimate Chocolate Cookies</td>\n",
       "      <td>https://www.twopeasandtheirpod.com/chocolate-cookies-recipe/</td>\n",
       "      <td>15</td>\n",
       "      <td>[all-purpose flour, baking soda, sea salt, dutch processed cocoa, unsalted butter,, granulated sugar, light brown sugar, large eggs, vanilla extract, chocolate chips, chocolate chunks, chocolate baking wafers or big chocolate chunks,, sea salt flakes,]</td>\n",
       "    </tr>\n",
       "    <tr>\n",
       "      <th>2</th>\n",
       "      <td>4611</td>\n",
       "      <td>Two peas and their pod</td>\n",
       "      <td>3-Ingredient White Chocolate Peppermint Pretzels</td>\n",
       "      <td>https://www.twopeasandtheirpod.com/white-chocolate-peppermint-pretzels/</td>\n",
       "      <td>15</td>\n",
       "      <td>[pretzel crisps, white chocolate melting wafers, crushed candy canes]</td>\n",
       "    </tr>\n",
       "    <tr>\n",
       "      <th>3</th>\n",
       "      <td>5383</td>\n",
       "      <td>Two peas and their pod</td>\n",
       "      <td>Chocolate Icebox Cupcakes</td>\n",
       "      <td>https://www.twopeasandtheirpod.com/chocolate-icebox-cupcakes/</td>\n",
       "      <td>15</td>\n",
       "      <td>[heavy cream, powdered sugar, vanilla extract, 9-ounce package nabiscoâ€™s famous chocolate wafer cookies, sprinkles]</td>\n",
       "    </tr>\n",
       "    <tr>\n",
       "      <th>4</th>\n",
       "      <td>5667</td>\n",
       "      <td>Chelseas Messy Apron</td>\n",
       "      <td>Thanksgiving Treats</td>\n",
       "      <td>https://www.chelseasmessyapron.com/turkey-chocolate-caramel-pretzels-video/</td>\n",
       "      <td>30</td>\n",
       "      <td>[miniature reese’s cups, fudge-striped shortbread cookies, frosting, food coloring red, orange, or yellow, \"m&amp;ms\", chocolate kisses, milk chocolate chips or peanut butter or chocolate frosting, coconut oil, miniature vanilla wafer cookies, miniature chocolate chips, twist or snap pretzels, rolos, \"m&amp;ms\", pretzel sticks, soft caramels, milk chocolate chips, optional: 1 teaspoon vegetable oil, pretzel twists, rolos, candy corn]</td>\n",
       "    </tr>\n",
       "    <tr>\n",
       "      <th>5</th>\n",
       "      <td>6518</td>\n",
       "      <td>Chelseas Messy Apron</td>\n",
       "      <td>Easy Jungle Cupcakes</td>\n",
       "      <td>https://www.chelseasmessyapron.com/easy-jungle-cupcakes/</td>\n",
       "      <td>42</td>\n",
       "      <td>[eggs, vegetable oil, full-fat sour cream or full-fat vanilla greek yogurt, vanilla extract, buttermilk, chocolate fudge cake mix, chocolate instant pudding mix, cream cheese frosting, white sparkling sugar, black candy melts, brown m&amp;ms, black sparkle gel, large eggs, vegetable oil, full-fat sour cream or full-fat vanilla greek yogurt, vanilla extract, buttermilk, package (15.25 ounces) chocolate fudge cake mix dry, package (3.4 ounces) chocolate instant pudding mix dry, container cream cheese frosting or your favorite homemade frosting, brown jimmies sprinkles, miniature vanilla wafer cookies, edible candy eyes, black sparkle gel, large eggs, vegetable oil, full-fat sour cream or full-fat vanilla greek yogurt, vanilla extract, buttermilk, package (15.25 ounces) chocolate fudge cake mix dry, package (3.4 ounces) chocolate instant pudding mix dry, container cream cheese frosting or your favorite homemade frosting, orange sparkling sugar, edible eyes, orange m&amp;ms, black sparkle gel, miniature vanilla wafers, large eggs, vegetable oil, full-fat sour cream or full-fat vanilla greek yogurt, vanilla extract, buttermilk, package (15.25 ounces) chocolate fudge cake mix dry, package (3.4 ounces) chocolate instant pudding mix dry, container cream cheese frosting or your favorite homemade frosting, white sparkling sugar, nestle dark chocolate chips, edible eyes, black sparkle gel]</td>\n",
       "    </tr>\n",
       "    <tr>\n",
       "      <th>6</th>\n",
       "      <td>56</td>\n",
       "      <td>Sally's baking addiction</td>\n",
       "      <td>Caramelized Banana Pudding (With Cinnamon Whipped Cream)</td>\n",
       "      <td>https://sallysbakingaddiction.com/caramelized-banana-pudding/</td>\n",
       "      <td>295</td>\n",
       "      <td>[unsalted butter, brown sugar, ground cinnamon, bananas, whole milk, heavy cream, granulated sugar, salt, egg yolks, cornstarch, pure vanilla extract, unsalted butter, vanilla wafer cookies, heavy cream, confectioners’ sugar, pure vanilla extract, ground cinnamon, optional garnish:]</td>\n",
       "    </tr>\n",
       "  </tbody>\n",
       "</table>\n",
       "</div>"
      ],
      "text/plain": [
       "   index                      Blog  \\\n",
       "0   4616    Two peas and their pod   \n",
       "1   4333    Two peas and their pod   \n",
       "2   4611    Two peas and their pod   \n",
       "3   5383    Two peas and their pod   \n",
       "4   5667      Chelseas Messy Apron   \n",
       "5   6518      Chelseas Messy Apron   \n",
       "6     56  Sally's baking addiction   \n",
       "\n",
       "                                                     Recipe  \\\n",
       "0                                                Oreo Balls   \n",
       "1                                Ultimate Chocolate Cookies   \n",
       "2          3-Ingredient White Chocolate Peppermint Pretzels   \n",
       "3                                 Chocolate Icebox Cupcakes   \n",
       "4                                       Thanksgiving Treats   \n",
       "5                                      Easy Jungle Cupcakes   \n",
       "6  Caramelized Banana Pudding (With Cinnamon Whipped Cream)   \n",
       "\n",
       "                                                                          Link  \\\n",
       "0                               https://www.twopeasandtheirpod.com/oreo-balls/   \n",
       "1                 https://www.twopeasandtheirpod.com/chocolate-cookies-recipe/   \n",
       "2      https://www.twopeasandtheirpod.com/white-chocolate-peppermint-pretzels/   \n",
       "3                https://www.twopeasandtheirpod.com/chocolate-icebox-cupcakes/   \n",
       "4  https://www.chelseasmessyapron.com/turkey-chocolate-caramel-pretzels-video/   \n",
       "5                     https://www.chelseasmessyapron.com/easy-jungle-cupcakes/   \n",
       "6                https://sallysbakingaddiction.com/caramelized-banana-pudding/   \n",
       "\n",
       "   Time  \\\n",
       "0     0   \n",
       "1    15   \n",
       "2    15   \n",
       "3    15   \n",
       "4    30   \n",
       "5    42   \n",
       "6   295   \n",
       "\n",
       "                                                                                                                                                                                                                                                                                                                                                                                                                                                                                                                                                                                                                                                                                                                                                                                                                                                                                                                                                                                                                                                                                                                                                                                                                                                                                                                                                                                                                                         Ingredients  \n",
       "0                                                                                                                                                                                                                                                                                                                                                                                                                                                                                                                                                                                                                                                                                                                                                                                                                                                                                                                                                                                                                                                                                                                                                                                                                [oreo cookies, cream cheese, chocolate melting wafers or candy coating, white chocolate melting wafers or candy coating, for decorating: melted chocolate, oreo crumbs, sprinkles, crushed peppermint, or chopped nuts, if desired]  \n",
       "1                                                                                                                                                                                                                                                                                                                                                                                                                                                                                                                                                                                                                                                                                                                                                                                                                                                                                                                                                                                                                                                                                                                                                                                       [all-purpose flour, baking soda, sea salt, dutch processed cocoa, unsalted butter,, granulated sugar, light brown sugar, large eggs, vanilla extract, chocolate chips, chocolate chunks, chocolate baking wafers or big chocolate chunks,, sea salt flakes,]  \n",
       "2                                                                                                                                                                                                                                                                                                                                                                                                                                                                                                                                                                                                                                                                                                                                                                                                                                                                                                                                                                                                                                                                                                                                                                                                                                                                                                                                                                              [pretzel crisps, white chocolate melting wafers, crushed candy canes]  \n",
       "3                                                                                                                                                                                                                                                                                                                                                                                                                                                                                                                                                                                                                                                                                                                                                                                                                                                                                                                                                                                                                                                                                                                                                                                                                                                                                                                              [heavy cream, powdered sugar, vanilla extract, 9-ounce package nabiscoâ€™s famous chocolate wafer cookies, sprinkles]  \n",
       "4                                                                                                                                                                                                                                                                                                                                                                                                                                                                                                                                                                                                                                                                                                                                                                                                                                                                                                                                                                                                      [miniature reese’s cups, fudge-striped shortbread cookies, frosting, food coloring red, orange, or yellow, \"m&ms\", chocolate kisses, milk chocolate chips or peanut butter or chocolate frosting, coconut oil, miniature vanilla wafer cookies, miniature chocolate chips, twist or snap pretzels, rolos, \"m&ms\", pretzel sticks, soft caramels, milk chocolate chips, optional: 1 teaspoon vegetable oil, pretzel twists, rolos, candy corn]  \n",
       "5  [eggs, vegetable oil, full-fat sour cream or full-fat vanilla greek yogurt, vanilla extract, buttermilk, chocolate fudge cake mix, chocolate instant pudding mix, cream cheese frosting, white sparkling sugar, black candy melts, brown m&ms, black sparkle gel, large eggs, vegetable oil, full-fat sour cream or full-fat vanilla greek yogurt, vanilla extract, buttermilk, package (15.25 ounces) chocolate fudge cake mix dry, package (3.4 ounces) chocolate instant pudding mix dry, container cream cheese frosting or your favorite homemade frosting, brown jimmies sprinkles, miniature vanilla wafer cookies, edible candy eyes, black sparkle gel, large eggs, vegetable oil, full-fat sour cream or full-fat vanilla greek yogurt, vanilla extract, buttermilk, package (15.25 ounces) chocolate fudge cake mix dry, package (3.4 ounces) chocolate instant pudding mix dry, container cream cheese frosting or your favorite homemade frosting, orange sparkling sugar, edible eyes, orange m&ms, black sparkle gel, miniature vanilla wafers, large eggs, vegetable oil, full-fat sour cream or full-fat vanilla greek yogurt, vanilla extract, buttermilk, package (15.25 ounces) chocolate fudge cake mix dry, package (3.4 ounces) chocolate instant pudding mix dry, container cream cheese frosting or your favorite homemade frosting, white sparkling sugar, nestle dark chocolate chips, edible eyes, black sparkle gel]  \n",
       "6                                                                                                                                                                                                                                                                                                                                                                                                                                                                                                                                                                                                                                                                                                                                                                                                                                                                                                                                                                                                                                                                                                                                                        [unsalted butter, brown sugar, ground cinnamon, bananas, whole milk, heavy cream, granulated sugar, salt, egg yolks, cornstarch, pure vanilla extract, unsalted butter, vanilla wafer cookies, heavy cream, confectioners’ sugar, pure vanilla extract, ground cinnamon, optional garnish:]  "
      ]
     },
     "execution_count": 88,
     "metadata": {},
     "output_type": "execute_result"
    }
   ],
   "source": [
    "searchlist = ['wafer']\n",
    "\n",
    "master[master.Ingredients.apply(lambda x: find_ingredient(searchlist, x))].sort_values('Time').reset_index()"
   ]
  }
 ],
 "metadata": {
  "kernelspec": {
   "display_name": "Python 3",
   "language": "python",
   "name": "python3"
  },
  "language_info": {
   "codemirror_mode": {
    "name": "ipython",
    "version": 3
   },
   "file_extension": ".py",
   "mimetype": "text/x-python",
   "name": "python",
   "nbconvert_exporter": "python",
   "pygments_lexer": "ipython3",
   "version": "3.8.5"
  }
 },
 "nbformat": 4,
 "nbformat_minor": 4
}
